{
 "cells": [
  {
   "cell_type": "code",
   "execution_count": 5,
   "id": "28388906",
   "metadata": {},
   "outputs": [
    {
     "name": "stdout",
     "output_type": "stream",
     "text": [
      "Sorted age: [19, 19, 20, 22, 24, 24, 24, 25, 25, 26]\n",
      "Min age: 19\n",
      "Max age: 26\n",
      "Added min and max values again: [19, 19, 20, 22, 24, 24, 24, 25, 25, 26, 19, 26]\n",
      "Median age: 24.0\n",
      "Avg of the given list =  22.75\n",
      "Range =  7\n"
     ]
    }
   ],
   "source": [
    "#Importing library called statistics which helps in calculating mathematical data\n",
    "import statistics \n",
    "ages = [19, 22, 19, 24, 20, 25, 26, 24, 25, 24]\n",
    "# Sorts age list in ascending order by default\n",
    "ages.sort()\n",
    "print (\"Sorted age:\", ages) # Displays sorted values\n",
    "# Minimum age\n",
    "# Displays min value as we used min() method\n",
    "print (\"Min age:\", min(ages)) \n",
    "# Maximum age\n",
    "# Displays max value as we used max() method\n",
    "print (\"Max age:\", max(ages)) \n",
    "# Adding again min and max values so we use append() method to insert values to the list\n",
    "ages.append(min(ages)) \n",
    "ages.append(max(ages))\n",
    "print (\"Added min and max values again:\",ages) #Displays the list again with new values\n",
    "# Median\n",
    "mdn_age = statistics.median(ages)\n",
    "print (\"Median age:\", mdn_age)\n",
    "# Average age\n",
    "average= sum(ages)/len(ages)\n",
    "print (\"Avg of the given list = \", average)\n",
    "# Range\n",
    "rng=max(ages)-min(ages)\n",
    "print (\"Range = \", rng)"
   ]
  },
  {
   "cell_type": "code",
   "execution_count": 9,
   "id": "4e29f303",
   "metadata": {},
   "outputs": [
    {
     "name": "stdout",
     "output_type": "stream",
     "text": [
      "Dog Dictionary Created: {'name': 'kitty', 'color': 'white', 'breed': 'dalmatian', 'legs': '4', 'age': '3'}\n",
      "Student Dictionary Created: {'first_name': 'devi satyasri', 'last_name': 'gundumogula', 'Gender': 'Female', 'age': '22', 'marital_status': 'single', 'skills': 'dancer', 'Country': 'India', 'City': 'bhimavaram', 'Address': '1/32/6'}\n",
      "Skills Dictionary Created: {'dancer': '1', 'singer': '2', 'writer': '3'}\n",
      "Length of student: 9\n",
      "Datatype fo skills: <class 'dict'>\n",
      "Values of skills: dict_values(['1', '2', '3'])\n",
      "New skill added: {'dancer': '1', 'singer': '2', 'writer': '3', 'Team Work': 4}\n",
      "Dog keys: dict_keys(['name', 'color', 'breed', 'legs', 'age'])\n",
      "Student values: dict_values(['devi satyasri', 'gundumogula', 'Female', '22', 'single', 'dancer', 'India', 'bhimavaram', '1/32/6'])\n"
     ]
    }
   ],
   "source": [
    "# Dog dictionary is created with given key and values\n",
    "dog = {'name':'kitty','color':'white','breed':'dalmatian','legs':'4','age':'3'}\n",
    "print (\"Dog Dictionary Created:\",dog)\n",
    "# Student dictionary is created with given key and values\n",
    "student = {'first_name':'devi satyasri','last_name':'gundumogula','Gender':'Female','age':'22','marital_status':'single',\n",
    "'skills':'dancer','Country':'India','City':'bhimavaram','Address':'1/32/6'}\n",
    "print (\"Student Dictionary Created:\",student) \n",
    "# Create another dictionary for skills\n",
    "skills = {'dancer':'1','singer':'2','writer':'3'}\n",
    "print (\"Skills Dictionary Created:\",skills)\n",
    "# Find the length of student dictionary\n",
    "print (\"Length of student:\", len(student))\n",
    "# Check the datatype of skills\n",
    "print (\"Datatype fo skills:\",type(skills))\n",
    "# Get values of skills dictionary\n",
    "print (\"Values of skills:\",skills.values())\n",
    "# Add one item to skills\n",
    "skills['Team Work'] = 4\n",
    "print (\"New skill added:\",skills)\n",
    "print (\"Dog keys:\",dog.keys()) \n",
    "print (\"Student values:\",student.values())"
   ]
  },
  {
   "cell_type": "code",
   "execution_count": 10,
   "id": "a5c9b8ca",
   "metadata": {},
   "outputs": [
    {
     "name": "stdout",
     "output_type": "stream",
     "text": [
      "Siblings: ('vijay lakshmi', 'sahithi', 'ramya', 'keerthi', 'Gopi', 'venkat', 'satish', 'akhil')\n",
      "Length of Siblings: 8\n",
      "Family_members: ('vijay lakshmi', 'sahithi', 'ramya', 'keerthi', 'Gopi', 'venkat', 'satish', 'akhil', 'krishna', 'usha rani')\n"
     ]
    }
   ],
   "source": [
    "my_sisters = ('vijay lakshmi', 'sahithi','ramya','keerthi') \n",
    "my_brothers = ('Gopi','venkat','satish','akhil')\n",
    "# Create another tuple as siblings and join the sister’s and brother’s tuple\n",
    "siblings = my_sisters + my_brothers\n",
    "# Displays siblings’ output and length of siblings\n",
    "print(\"Siblings:\", siblings)\n",
    "print(\"Length of Siblings:\", len(siblings))\n",
    "# Create another tuple as family_members and add father and mother name to it\n",
    "family_members = siblings + ('krishna','usha rani')\n",
    "# Displays the family_members output\n",
    "print(\"Family_members:\",family_members)"
   ]
  },
  {
   "cell_type": "code",
   "execution_count": 12,
   "id": "35d73b8e",
   "metadata": {},
   "outputs": [
    {
     "name": "stdout",
     "output_type": "stream",
     "text": [
      "Length of it_companies: 7\n",
      "After adding another item: {'Google', 'Apple', 'Twitter', 'Oracle', 'Facebook', 'Microsoft', 'IBM', 'Amazon'}\n",
      "After adding multiple items: {'Apple', 'Oracle', 'Facebook', 'IBM', 'Infosys', 'Wipro', 'Google', 'Twitter', 'TCS', 'Capgemini', 'Microsoft', 'Amazon'}\n",
      "After removing one company: {'Apple', 'Oracle', 'Facebook', 'IBM', 'Infosys', 'Wipro', 'Google', 'Twitter', 'Capgemini', 'Microsoft', 'Amazon'}\n",
      "After discarding company: {'Apple', 'Oracle', 'Facebook', 'IBM', 'Infosys', 'Wipro', 'Google', 'Twitter', 'Capgemini', 'Microsoft', 'Amazon'}\n",
      "Join A and B: {19, 20, 22, 24, 25, 26, 27, 28}\n",
      "Intersection of A and B: {19, 20, 22, 24, 25, 26}\n",
      "Subset of A and B: True\n",
      "Disjoint: False\n",
      "Converting list to set: {19, 22, 24, 25, 26}\n",
      "Length of set: 5\n",
      "Length of list: 8\n",
      "Symmetric diff: {27, 28}\n",
      "set()\n",
      "set()\n"
     ]
    }
   ],
   "source": [
    "it_companies = {'Facebook', 'Google', 'Microsoft', 'Apple', 'IBM', 'Oracle', 'Amazon'}\n",
    "print(\"Length of it_companies:\", len(it_companies))\n",
    "#Add twitter\n",
    "it_companies.add('Twitter')\n",
    "print(\"After adding another item:\",it_companies)\n",
    "#Add multiple it_companies\n",
    "it_companies.update({'Infosys','Capgemini','Wipro','TCS'})\n",
    "print(\"After adding multiple items:\",it_companies)\n",
    "#Remove\n",
    "it_companies.remove('TCS')\n",
    "print(\"After removing one company:\",it_companies)\n",
    "it_companies.discard('TCS')\n",
    "print(\"After discarding company:\",it_companies)\n",
    "#Join A & B\n",
    "A = {19, 22, 24, 20, 25, 26}\n",
    "B = {19, 22, 20, 25, 26, 24, 28, 27} \n",
    "print(\"Join A and B:\", A.union(B))\n",
    "#Intersection\n",
    "print(\"Intersection of A and B:\", A.intersection(B))\n",
    "#Subset\n",
    "print(\"Subset of A and B:\", A.issubset(B))\n",
    "#Disjoint\n",
    "print(\"Disjoint:\", A.isdisjoint(B))\n",
    "#Convert list to set\n",
    "age = [22, 19, 24, 25, 26, 24, 25, 24]\n",
    "print(\"Converting list to set:\", set(age))\n",
    "#Length of set\n",
    "print(\"Length of set:\",len(set(age))) \n",
    "#Length of list\n",
    "print(\"Length of list:\",len(age))\n",
    "#Symmetric diff- returns values which are not in common with other set\n",
    "print(\"Symmetric diff:\",A.symmetric_difference(B))\n",
    "#delete set \n",
    "A.clear()\n",
    "print(A) \n",
    "B.clear()\n",
    "print(B)"
   ]
  },
  {
   "cell_type": "code",
   "execution_count": 13,
   "id": "eb17ba15",
   "metadata": {},
   "outputs": [
    {
     "name": "stdout",
     "output_type": "stream",
     "text": [
      "enter r:30\n",
      "Area of Circle: 2826.0\n",
      "Circumference of Circle: 188.4\n"
     ]
    }
   ],
   "source": [
    "r = int(input(\"enter r:\"))\n",
    "# Calculate area of circle and circumference of circle\n",
    "area_of_circle = 3.14*r*r \n",
    "circum_of_circle = 2*3.14*r\n",
    "# Display area of circle and circumference of circle\n",
    "print(\"Area of Circle:\",area_of_circle)\n",
    "print(\"Circumference of Circle:\",circum_of_circle)"
   ]
  },
  {
   "cell_type": "code",
   "execution_count": 20,
   "id": "3011ce77",
   "metadata": {},
   "outputs": [
    {
     "name": "stdout",
     "output_type": "stream",
     "text": [
      "I am a teacher and I love to inspire and teach people\n",
      "{'love', 'to', 'teach', 'and', 'I', 'teacher', 'people', 'inspire', 'am', 'a'}\n",
      "number of unique words in given sentence is: 10\n"
     ]
    }
   ],
   "source": [
    "str= \"I am a teacher and I love to inspire and teach people\"\n",
    "print(str)\n",
    "set_str=set(x)\n",
    "print(set_str)\n",
    "print (\"number of unique words in given sentence is: %s\"% len(set_str))"
   ]
  },
  {
   "cell_type": "code",
   "execution_count": 21,
   "id": "ecffde51",
   "metadata": {},
   "outputs": [
    {
     "name": "stdout",
     "output_type": "stream",
     "text": [
      "Name\t Age\tCountry\tCity\t\n",
      "Asabeneh 250\tFinland\tHelsinki\n"
     ]
    }
   ],
   "source": [
    "a= \"Name\\t Age\\tCountry\\tCity\\t\\nAsabeneh 250\\tFinland\\tHelsinki\"\n",
    "print(a)"
   ]
  },
  {
   "cell_type": "code",
   "execution_count": 31,
   "id": "c94c8ace",
   "metadata": {},
   "outputs": [
    {
     "name": "stdout",
     "output_type": "stream",
     "text": [
      "the radius of a circle with raduis 10 is 314 meters square.\n"
     ]
    }
   ],
   "source": [
    "raduis=10\n",
    "area=3.14*raduis**2\n",
    "print('the radius of a circle with raduis {} is {:.0f} meters square.'.format(raduis,area))"
   ]
  },
  {
   "cell_type": "code",
   "execution_count": 33,
   "id": "a5e615ce",
   "metadata": {},
   "outputs": [
    {
     "name": "stdout",
     "output_type": "stream",
     "text": [
      "150 155 145 148\n",
      "Values are: [68.03, 70.29, 65.76, 67.12]\n"
     ]
    }
   ],
   "source": [
    "L1=[int(num) for num in input().split(\" \")]\n",
    "#Creating another list called W_kg\n",
    "W_kg=[] \n",
    "#Using for loop to iterate the values and appending the list\n",
    "for i in L1:\n",
    " W_kg.append(round(i/2.205,2))\n",
    "#Displaying the values in kgs after conversion\n",
    "print (\"Values are:\",W_kg)"
   ]
  },
  {
   "cell_type": "code",
   "execution_count": null,
   "id": "3bc77fa2",
   "metadata": {},
   "outputs": [],
   "source": []
  }
 ],
 "metadata": {
  "kernelspec": {
   "display_name": "Python 3 (ipykernel)",
   "language": "python",
   "name": "python3"
  },
  "language_info": {
   "codemirror_mode": {
    "name": "ipython",
    "version": 3
   },
   "file_extension": ".py",
   "mimetype": "text/x-python",
   "name": "python",
   "nbconvert_exporter": "python",
   "pygments_lexer": "ipython3",
   "version": "3.9.13"
  }
 },
 "nbformat": 4,
 "nbformat_minor": 5
}
